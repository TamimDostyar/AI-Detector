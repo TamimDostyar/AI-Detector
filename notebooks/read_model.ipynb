{
 "cells": [
  {
   "cell_type": "code",
   "execution_count": 3,
   "metadata": {},
   "outputs": [],
   "source": [
    "from tensorflow.keras.preprocessing.sequence import pad_sequences\n",
    "import os"
   ]
  },
  {
   "cell_type": "code",
   "execution_count": 12,
   "metadata": {},
   "outputs": [
    {
     "name": "stdout",
     "output_type": "stream",
     "text": [
      "Human   (66.81% confidence)\n"
     ]
    }
   ],
   "source": [
    "import os\n",
    "import pickle\n",
    "import joblib\n",
    "import numpy as np\n",
    "\n",
    "from tensorflow.keras.preprocessing.sequence import pad_sequences\n",
    "from tensorflow.keras.models import load_model\n",
    "\n",
    "# ————— Paths to your saved artifacts —————\n",
    "DL_MODEL_PATH     = 'dl_model.keras'\n",
    "STAT_MODEL_PATH   = 'stat_model.joblib'\n",
    "TFIDF_PATH        = 'tfidf_vectorizer.joblib'\n",
    "TOKENIZER_PATH    = 'tokenizer.pkl'\n",
    "\n",
    "# ————— Load your deep-learning model —————\n",
    "dl_model = load_model(DL_MODEL_PATH)\n",
    "\n",
    "# ————— Load your statistical model + vectorizer —————\n",
    "stat_model = joblib.load(STAT_MODEL_PATH)\n",
    "tfidf       = joblib.load(TFIDF_PATH)\n",
    "\n",
    "# ————— Load your Keras tokenizer —————\n",
    "with open(TOKENIZER_PATH, 'rb') as f:\n",
    "    tokenizer = pickle.load(f)\n",
    "\n",
    "# ————— Sequence length (same as during training) —————\n",
    "MAX_LEN = 300\n",
    "\n",
    "def classify_essay(text: str) -> tuple[str, float]:\n",
    "    # 1) Stat model probability for “human”\n",
    "    stat_p_human = stat_model.predict_proba(tfidf.transform([text]))[0, 1]\n",
    "\n",
    "    # 2) DL model probability for “human”\n",
    "    seq    = tokenizer.texts_to_sequences([text])\n",
    "    padded = pad_sequences(seq, maxlen=MAX_LEN, padding='post', truncating='post')\n",
    "    dl_p_human = float(dl_model.predict(padded, verbose=0)[0, 0])\n",
    "\n",
    "    # 3) Combined probability\n",
    "    p_human = (stat_p_human + dl_p_human) / 2\n",
    "\n",
    "    if p_human > 0.5:\n",
    "        return \"Human\", p_human\n",
    "    else:\n",
    "        return \"AI\", 1 - p_human\n",
    "\n",
    "# ————— Quick sanity-check on a sample essay —————\n",
    "\n",
    "\n",
    "sample = '''\n",
    "    9th January 2025\n",
    "The Evolution of Citizenship\n",
    "Citizenship represents a person's belonging, although its meaning has changed throughout history. Cooper describes citizenship as the intersection of equality and rights, which relates to integration ethics, differentiation ethics, and fragmentation ethics. Citizenship evolved as people fled war zones or sought better living conditions. This derives from ancient Greek and Roman civilizations, which developed within empires such as Rome rather than modern nation-states. Governments offered citizenship to provide rights and identification, allowing people to live freely and without fear of discrimination. \n",
    "Despite its promise, citizenship faces challenges in many countries. For example, dual citizenship raises questions of loyalty as citizens are expected to align with one nation’s cultural and political goals. The understanding of citizenship has varied among cultures as well. In medieval Europe, citizenship was linked to cities rather than nations, but monarchies and empires gradually redefined it. The British Empire, for instance, treated immigrants as part of the kingdom; however, rights were unequally distributed, and colonized people faced exclusion despite fighting for equality using the empire's ideals. The rise of capitalism further complicated citizenship by linking it to economic roles like property ownership or labor. Although poor workers were nominally considered equal citizens, systemic inequities persisted, sparking debates about fairness. Furthermore, movies show the challenges immigrants face due to citizenship, including deportation, job insecurity, language barriers, and uncertain futures. Religion has also influenced citizenship, often leading to violence and separating populations like the massacres aimed to remove entire Jewish communities. The Rwandan genocide, in the movie, shows how even diplomats, despite being from the same country, were stripped of their citizenship and targeted for extermination due to their perceived disloyalty and the actions of their fellow countrymen.\n",
    "In conclusion, citizenship is a dynamic and diverse concept that has evolved in response to historical, cultural, and political circumstances.\n",
    "    '''\n",
    "label, conf = classify_essay(sample)\n",
    "print(f\"{label}   ({conf:.2%} confidence)\")\n"
   ]
  },
  {
   "cell_type": "markdown",
   "metadata": {},
   "source": []
  },
  {
   "cell_type": "code",
   "execution_count": null,
   "metadata": {},
   "outputs": [],
   "source": []
  },
  {
   "cell_type": "code",
   "execution_count": null,
   "metadata": {},
   "outputs": [
    {
     "name": "stdout",
     "output_type": "stream",
     "text": [
      "2233\n",
      " Human   (66.81% confidence)\n"
     ]
    }
   ],
   "source": [
    "\n",
    "\n",
    "from tensorflow.keras.preprocessing.sequence import pad_sequences\n",
    "\n",
    "def classify_essay(text):\n",
    "    stat_p_human = stat_model.predict_proba(tfidf.transform([text]))[0,1]\n",
    "    seq         = tokenizer.texts_to_sequences([text])\n",
    "    padded      = pad_sequences(seq, maxlen=MAX_LEN, padding='post', truncating='post')\n",
    "    dl_p_human  = dl_model.predict(padded, verbose=0)[0,0]\n",
    "    p_human     = (stat_p_human + dl_p_human) / 2\n",
    "\n",
    "    if p_human > 0.5:\n",
    "        return \"Human\", p_human\n",
    "    else:\n",
    "        return \"AI\", 1 - p_human\n",
    "\n",
    "for sample in [\n",
    "    '''\n",
    "    9th January 2025\n",
    "The Evolution of Citizenship\n",
    "Citizenship represents a person's belonging, although its meaning has changed throughout history. Cooper describes citizenship as the intersection of equality and rights, which relates to integration ethics, differentiation ethics, and fragmentation ethics. Citizenship evolved as people fled war zones or sought better living conditions. This derives from ancient Greek and Roman civilizations, which developed within empires such as Rome rather than modern nation-states. Governments offered citizenship to provide rights and identification, allowing people to live freely and without fear of discrimination. \n",
    "Despite its promise, citizenship faces challenges in many countries. For example, dual citizenship raises questions of loyalty as citizens are expected to align with one nation’s cultural and political goals. The understanding of citizenship has varied among cultures as well. In medieval Europe, citizenship was linked to cities rather than nations, but monarchies and empires gradually redefined it. The British Empire, for instance, treated immigrants as part of the kingdom; however, rights were unequally distributed, and colonized people faced exclusion despite fighting for equality using the empire's ideals. The rise of capitalism further complicated citizenship by linking it to economic roles like property ownership or labor. Although poor workers were nominally considered equal citizens, systemic inequities persisted, sparking debates about fairness. Furthermore, movies show the challenges immigrants face due to citizenship, including deportation, job insecurity, language barriers, and uncertain futures. Religion has also influenced citizenship, often leading to violence and separating populations like the massacres aimed to remove entire Jewish communities. The Rwandan genocide, in the movie, shows how even diplomats, despite being from the same country, were stripped of their citizenship and targeted for extermination due to their perceived disloyalty and the actions of their fellow countrymen.\n",
    "In conclusion, citizenship is a dynamic and diverse concept that has evolved in response to historical, cultural, and political circumstances.\n",
    "    '''\n",
    "]:\n",
    "    label, conf = classify_essay(sample)\n",
    "    print(len(sample))\n",
    "    print(f\"{label:>6}   ({conf:.2%} confidence)\")\n"
   ]
  }
 ],
 "metadata": {
  "kernelspec": {
   "display_name": "Python 3 (ipykernel)",
   "language": "python",
   "name": "python3"
  },
  "language_info": {
   "codemirror_mode": {
    "name": "ipython",
    "version": 3
   },
   "file_extension": ".py",
   "mimetype": "text/x-python",
   "name": "python",
   "nbconvert_exporter": "python",
   "pygments_lexer": "ipython3",
   "version": "3.11.12"
  }
 },
 "nbformat": 4,
 "nbformat_minor": 2
}
